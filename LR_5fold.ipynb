{
  "cells": [
    {
      "cell_type": "code",
      "execution_count": 4,
      "metadata": {
        "colab": {
          "base_uri": "https://localhost:8080/"
        },
        "id": "F3OV47y9ZKRI",
        "outputId": "4328cdff-4412-449b-f0eb-eff99cc643da"
      },
      "outputs": [
        {
          "output_type": "stream",
          "name": "stdout",
          "text": [
            "Fold 1 — MAE: 0.9528, RMSE: 1.2367, Pearson: 0.2278, Spearman: 0.2306\n",
            "Fold 2 — MAE: 0.8969, RMSE: 1.1475, Pearson: 0.3669, Spearman: 0.3513\n",
            "Fold 3 — MAE: 0.8745, RMSE: 1.1282, Pearson: 0.2944, Spearman: 0.2804\n",
            "Fold 4 — MAE: 0.8704, RMSE: 1.1192, Pearson: 0.2676, Spearman: 0.2626\n",
            "Fold 5 — MAE: 0.9068, RMSE: 1.1510, Pearson: 0.2459, Spearman: 0.2552\n",
            "\n",
            "=== 5-Fold Cross-Validation Summary ===\n",
            "MAE:      0.9003 ± 0.0296\n",
            "RMSE:     1.1565 ± 0.0418\n",
            "Pearson:  0.2805 ± 0.0486\n",
            "Spearman: 0.2760 ± 0.0409\n"
          ]
        }
      ],
      "source": [
        "import numpy as np\n",
        "import pandas as pd\n",
        "from sklearn.linear_model import LinearRegression\n",
        "from sklearn.metrics import mean_squared_error, mean_absolute_error\n",
        "from scipy.stats   import pearsonr, spearmanr\n",
        "\n",
        "def pool_mean(x: np.ndarray) -> np.ndarray:\n",
        "    return x.mean(axis=0)\n",
        "\n",
        "def eval_metrics(y_true, y_pred):\n",
        "    mae = mean_absolute_error(y_true, y_pred)\n",
        "    rmse = np.sqrt(mean_squared_error(y_true, y_pred))\n",
        "    p, _ = pearsonr(y_true, y_pred)\n",
        "    s, _ = spearmanr(y_true, y_pred)\n",
        "    return mae, rmse, p, s\n",
        "\n",
        "molecule_embeddings = np.load('molecules_all_embeddings.npy', allow_pickle=True)\n",
        "protein_embeddings  = np.load('proteins_all_embeddings.npy',   allow_pickle=True)\n",
        "\n",
        "maes, rmses, ps, ss = [], [], [], []\n",
        "\n",
        "for fold in range(1, 6):\n",
        "    train = pd.read_csv(f'train_{fold}.csv')\n",
        "    test  = pd.read_csv(f'test_{fold}.csv')\n",
        "\n",
        "    def make_dataset(df):\n",
        "        X, y = [], []\n",
        "        for _, row in df.iterrows():\n",
        "            mol  = molecule_embeddings[int(row.MoleculeIdx)]\n",
        "            prot = protein_embeddings [int(row.ProteinIdx)]\n",
        "            fv   = np.concatenate([pool_mean(mol), pool_mean(prot)])\n",
        "            X.append(fv); y.append(row.Ki)\n",
        "        return np.vstack(X), np.array(y)\n",
        "\n",
        "    X_train, y_train = make_dataset(train)\n",
        "    X_test,  y_test  = make_dataset(test)\n",
        "\n",
        "    lr = LinearRegression().fit(X_train, y_train)\n",
        "    y_pred = lr.predict(X_test)\n",
        "\n",
        "    mae, rmse, p, s = eval_metrics(y_test, y_pred)\n",
        "    maes.append(mae);   rmses.append(rmse)\n",
        "    ps.append(p);       ss.append(s)\n",
        "\n",
        "    print(f\"Fold {fold} — MAE: {mae:.4f}, RMSE: {rmse:.4f}, Pearson: {p:.4f}, Spearman: {s:.4f}\")\n",
        "\n",
        "#5-fold average\n",
        "print(\"\\n=== 5-Fold Cross-Validation Summary ===\")\n",
        "print(f\"MAE:      {np.mean(maes):.4f} ± {np.std(maes):.4f}\")\n",
        "print(f\"RMSE:     {np.mean(rmses):.4f} ± {np.std(rmses):.4f}\")\n",
        "print(f\"Pearson:  {np.mean(ps):.4f} ± {np.std(ps):.4f}\")\n",
        "print(f\"Spearman: {np.mean(ss):.4f} ± {np.std(ss):.4f}\")\n"
      ]
    }
  ],
  "metadata": {
    "colab": {
      "provenance": []
    },
    "kernelspec": {
      "display_name": "Python 3",
      "name": "python3"
    },
    "language_info": {
      "name": "python"
    }
  },
  "nbformat": 4,
  "nbformat_minor": 0
}